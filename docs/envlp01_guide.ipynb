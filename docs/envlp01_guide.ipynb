{
 "cells": [
  {
   "cell_type": "markdown",
   "id": "abdb1268-e0ed-4aa1-b1d1-dc25a3826636",
   "metadata": {},
   "source": [
    "## User guide of `pyenvlp`"
   ]
  },
  {
   "cell_type": "markdown",
   "id": "5c7641fa-18b0-4ad0-8b87-e6e098cbe129",
   "metadata": {},
   "source": [
    "### Import package"
   ]
  },
  {
   "cell_type": "code",
   "execution_count": 21,
   "id": "5b9cd71c-c904-4500-a8eb-036840e73b2f",
   "metadata": {},
   "outputs": [],
   "source": [
    "import pyenvlp"
   ]
  },
  {
   "cell_type": "markdown",
   "id": "4b748403-c66a-49f2-a5ba-7c57ef8c9af1",
   "metadata": {},
   "source": [
    "This package implements the fitting of response envelope and predictor envelope.  Its core optimization has a Python implementation and a cpp implementation.  The cpp implementation is faster and can be run on large problems.  The Python implementation is more suitable to moderate sized problems.  The program uses faster cpp version if available, else uses the Python version."
   ]
  },
  {
   "cell_type": "code",
   "execution_count": 103,
   "id": "e3293c6c-cbb4-4e80-8d44-585b39da118c",
   "metadata": {},
   "outputs": [
    {
     "data": {
      "text/plain": [
       "True"
      ]
     },
     "execution_count": 103,
     "metadata": {},
     "output_type": "execute_result"
    }
   ],
   "source": [
    "# To check if the cpp implementation is used\n",
    "pyenvlp.opt.USE_CPP_ENVOPT"
   ]
  },
  {
   "cell_type": "markdown",
   "id": "3f63713e-d361-4f74-bdbb-757c3ab750f3",
   "metadata": {},
   "source": [
    "### Prepare data"
   ]
  },
  {
   "cell_type": "markdown",
   "id": "12240671-e38b-4059-9f4b-abd0c7cea41f",
   "metadata": {},
   "source": [
    "We will use the wine data as an illustration.  The wine class is taken as predictor, and wine characteristics are taken as response vector.  We fit a response envelope model.  The response and predictors should be in matrix form (np.array).  If a predictor is categorical, make sure to use one-hot encoding.  Remove one class to make sure that the predictor columns are linearly independent.  "
   ]
  },
  {
   "cell_type": "code",
   "execution_count": 22,
   "id": "e2cd6d1d-d0a7-4e1f-b912-e85f69c78d8d",
   "metadata": {},
   "outputs": [],
   "source": [
    "import numpy as np\n",
    "import pandas as pd\n",
    "from sklearn import datasets"
   ]
  },
  {
   "cell_type": "code",
   "execution_count": 49,
   "id": "94c7b7a3-1455-44e8-9b0a-3cae3507db57",
   "metadata": {},
   "outputs": [
    {
     "data": {
      "text/plain": [
       "array([[1.423e+01, 1.710e+00, 2.430e+00, 1.560e+01, 1.270e+02, 2.800e+00,\n",
       "        3.060e+00, 2.800e-01, 2.290e+00, 5.640e+00, 1.040e+00, 3.920e+00,\n",
       "        1.065e+03],\n",
       "       [1.320e+01, 1.780e+00, 2.140e+00, 1.120e+01, 1.000e+02, 2.650e+00,\n",
       "        2.760e+00, 2.600e-01, 1.280e+00, 4.380e+00, 1.050e+00, 3.400e+00,\n",
       "        1.050e+03]])"
      ]
     },
     "execution_count": 49,
     "metadata": {},
     "output_type": "execute_result"
    }
   ],
   "source": [
    "# Load data\n",
    "wine = datasets.load_wine()\n",
    "# Create response\n",
    "Y = np.array(datasets.load_wine().data)\n",
    "Y[:2,:]"
   ]
  },
  {
   "cell_type": "code",
   "execution_count": 71,
   "id": "adbeebf3-5d0c-4489-8e9c-b7bf0e708f2f",
   "metadata": {},
   "outputs": [
    {
     "data": {
      "text/plain": [
       "array([[0, 0],\n",
       "       [0, 0]], dtype=uint8)"
      ]
     },
     "execution_count": 71,
     "metadata": {},
     "output_type": "execute_result"
    }
   ],
   "source": [
    "# Create predictors\n",
    "df = pd.DataFrame(wine.target, columns=[\"class\"])\n",
    "df_one_hot = pd.get_dummies(df, columns=[\"class\"])\n",
    "# make sure columns in X are independent\n",
    "df_one_hot = df_one_hot.drop(columns=['class_0'])  \n",
    "X = df_one_hot.to_numpy()\n",
    "X[:2,:]"
   ]
  },
  {
   "cell_type": "markdown",
   "id": "f1dd7b0c-40cb-4c94-bf52-e6262e604997",
   "metadata": {},
   "source": [
    "### Fit response envelope"
   ]
  },
  {
   "cell_type": "code",
   "execution_count": 64,
   "id": "86d51713-661a-47a8-a80e-136010275e2f",
   "metadata": {
    "scrolled": true
   },
   "outputs": [
    {
     "name": "stdout",
     "output_type": "stream",
     "text": [
      "Help on function fit_yenv in module pyenvlp.fit:\n",
      "\n",
      "fit_yenv(X, Y, u, init=None, asy=True)\n",
      "    Fits envelope model of Y, given envelope subspace dimension u.\n",
      "    Returns the envelope modified beta, along with other measures\n",
      "    involved in solving for projection matrix. Y matrix is usually\n",
      "    multi-target, and X can be a single vector or multi-dimensional.\n",
      "    \n",
      "    Args:\n",
      "        X : (n x p)\n",
      "        Y : (n x r)\n",
      "        u : scalar integer between [0, r]\n",
      "    \n",
      "        omegahat = gammahat.T @ M @ gammahat\n",
      "        omega0hat = gamma0hat.T @ sigY @ gamma0hat\n",
      "        sigma1 = gammahat @ omegahat @ gammahat.T\n",
      "        sigmahat = sigma1 + (gamma0hat @ omega0hat @ gamma0hat.T)\n",
      "        loglik = -n * r / 2 * (np.log(2 * np.pi) + 1) - n / 2 * objfun\n",
      "        etahat = gammahat.T @ betaOLS  # reduction to dimension u\n",
      "    \n",
      "    Returns dict with keys:\n",
      "        gamma       : projection matrix for material info Y|X\n",
      "        gamma0      : projection matrix for immaterial info\n",
      "        mu:         : intercept computed from envelope beta\n",
      "        beta:       : envelope modified OLS beta\n",
      "        sigma       : total variance (material + immaterial variance)\n",
      "        eta         : projected ols beta in reduced u dimension\n",
      "        omega:      : projected resid cov in reduced u dimension (material)\n",
      "        omega0:     : projected y'y cov in reduced u dimension (immaterial)\n",
      "        loglik      : log likelihood value\n",
      "        n           : number of samples\n",
      "        covMatrix   : final covariance matrix\n",
      "        asySE       : asymptotic standard error\n",
      "        ratio       : asymptotic SE of OLS / asymptotic SE of envelope for each beta\n",
      "        niter       : number of iterations taken in envMU opt\n",
      "        opt_elapsed : time taken to solve in envMU opt\n",
      "\n"
     ]
    }
   ],
   "source": [
    "# syntax of pyenvlp.fit_yenv\n",
    "help(pyenvlp.fit_yenv)"
   ]
  },
  {
   "cell_type": "code",
   "execution_count": 65,
   "id": "ad135638-1832-4708-b247-9884cfe5a058",
   "metadata": {},
   "outputs": [],
   "source": [
    "# Fit response envelope\n",
    "m = pyenvlp.fit_yenv(X, Y, 1)  # set u = 1 as an example"
   ]
  },
  {
   "cell_type": "code",
   "execution_count": 66,
   "id": "a0f84f70-99aa-4128-b442-b0c99bc6f02a",
   "metadata": {},
   "outputs": [
    {
     "data": {
      "text/plain": [
       "dict_keys(['gammahat', 'gamma0hat', 'objfun', 'niter', 'opt_elapsed', 'u', 'r', 'p', 'U', 'M', 'betaols', 'beta', 'mu', 'sigma', 'eta', 'omega', 'omega0', 'loglik', 'covMatrix', 'asySE', 'ratio'])"
      ]
     },
     "execution_count": 66,
     "metadata": {},
     "output_type": "execute_result"
    }
   ],
   "source": [
    "# Fitted parameters\n",
    "m.keys()"
   ]
  },
  {
   "cell_type": "code",
   "execution_count": 67,
   "id": "ab791de9-b4bb-4651-a338-65cb8e37ee2c",
   "metadata": {
    "scrolled": true
   },
   "outputs": [
    {
     "data": {
      "text/plain": [
       "array([[-9.89484278e-01, -8.06207967e-01],\n",
       "       [ 4.06127195e-01,  3.30902661e-01],\n",
       "       [-1.16227011e-01, -9.46989700e-02],\n",
       "       [ 2.78581430e+00,  2.26981442e+00],\n",
       "       [-1.06570426e+01, -8.68310177e+00],\n",
       "       [-5.90282529e-01, -4.80947993e-01],\n",
       "       [-9.34649175e-01, -7.61529645e-01],\n",
       "       [ 7.34060632e-02,  5.98094930e-02],\n",
       "       [-3.58178937e-01, -2.91835574e-01],\n",
       "       [-1.38775187e+00, -1.13070681e+00],\n",
       "       [-1.02202358e-01, -8.32720211e-02],\n",
       "       [-4.20383431e-01, -3.42518298e-01],\n",
       "       [-5.96229774e+02, -4.85793665e+02]])"
      ]
     },
     "execution_count": 67,
     "metadata": {},
     "output_type": "execute_result"
    }
   ],
   "source": [
    "m['beta']"
   ]
  },
  {
   "cell_type": "markdown",
   "id": "9995185e-0756-4a25-a612-9d9d6c0ee591",
   "metadata": {},
   "source": [
    "* Note: When we have large number of rows, `pyenvlp.fit_yenv_gram` directly work with the gram matrices, which is a memory friendly option."
   ]
  },
  {
   "cell_type": "code",
   "execution_count": 68,
   "id": "9b1ac36c-fd3b-4944-a1dd-3ddcb0bd2370",
   "metadata": {},
   "outputs": [
    {
     "name": "stdout",
     "output_type": "stream",
     "text": [
      "Help on function fit_yenv_gram in module pyenvlp.fit:\n",
      "\n",
      "fit_yenv_gram(sigY, sigYX, sigX, u, init=None)\n",
      "    Fit envelope model using grammian matrices cov(y, y), cov(x, y), cov(x, x).\n",
      "    Called by top-level function fit_yenv that uses full matrices X, Y.\n",
      "\n"
     ]
    }
   ],
   "source": [
    "help(pyenvlp.fit_yenv_gram)"
   ]
  },
  {
   "cell_type": "markdown",
   "id": "ea3342ad-aa99-45ad-8502-9834eab6ac6b",
   "metadata": {},
   "source": [
    "* Note: For predictor envelope model, the corresponding functions are `pyenvlp.fit_xenv` and `pyenvlp.fit_xenv_gram`."
   ]
  },
  {
   "cell_type": "markdown",
   "id": "61007f4a-7bf0-44a5-9037-31cf1bb4afb5",
   "metadata": {},
   "source": [
    "### Selection of u"
   ]
  },
  {
   "cell_type": "markdown",
   "id": "1ea082b4-77f6-46b8-b6cf-39b900efa177",
   "metadata": {},
   "source": [
    "Selection of `u` can be performed with `envOpt`.  It fits envelope models with different `u` in parallel, therefore improves the efficiency.  \n",
    "\n",
    "To use `envOpt`, we need the $M$ and $U$ matrices, where $M$ and $U$ are square matrices that appear in the objective function of a generic envelope optimization problem\n",
    "$$\n",
    "\\arg\\min_{\\scriptstyle{\\Gamma}}\\log|\\Gamma^TM\\Gamma| + \\log|\\Gamma^T(M+U)^{-1}\\Gamma|,\n",
    "$$\n",
    "where the optimization is performed on an $r\\times u$ Grassmann manifold.  \n",
    "\n",
    "* For response envelope, $M=\\hat{\\Sigma}_{Y\\mid X}$, $U=\\hat{\\Sigma}_{Y}-M$.\n",
    "* For predictor envelope, $M=\\hat{\\Sigma}_{X\\mid Y}$, $U=\\hat{\\Sigma}_{X}-M$."
   ]
  },
  {
   "cell_type": "code",
   "execution_count": 74,
   "id": "e75d0edc-178a-47bc-9845-9407061b0ab4",
   "metadata": {},
   "outputs": [],
   "source": [
    "# Compute M and U\n",
    "n, r = Y.shape\n",
    "sigY = np.cov(Y, rowvar=False) \n",
    "sigX = np.cov(X, rowvar=False)  \n",
    "invsigX = np.linalg.inv(sigX) # Use Cholesky decomposition\n",
    "sigYX = np.cov(Y, X, rowvar=False)[:Y.shape[1], Y.shape[1]:]\n",
    "sigRes = (sigY - sigYX @ invsigX @ sigYX.T) * (n - 1) / n\n",
    "\n",
    "M = sigRes\n",
    "U = sigY - M"
   ]
  },
  {
   "cell_type": "code",
   "execution_count": 75,
   "id": "3d942450-a676-4507-84cd-e46902e8242f",
   "metadata": {},
   "outputs": [],
   "source": [
    "# Initialize \n",
    "eopt = pyenvlp.EnvOpt(M, U)"
   ]
  },
  {
   "cell_type": "markdown",
   "id": "937d7b6b-ce5f-4cb4-8266-edff9ce67c75",
   "metadata": {},
   "source": [
    "We will use `pyenvlp.EnvOpt.sweep` for selection of u.  This function find the u that minimizes BIC.  The input of this function includes\n",
    "* `u_list`: A list of possible u values\n",
    "* `n`: Sample size\n",
    "* `objval_offset`: A constant used to get the exact BIC value.  It is 0 for response envelope model, and for predictor envelope model it is $-n/2 * \\log|\\hat{\\Sigma}_{Y}|$. Default value: 0.\n",
    "* `p`: When fitting response envelope models, take p to be number of predictors.  When fitting predictor envelope models, take p to be number of responses.  Default value: 1."
   ]
  },
  {
   "cell_type": "code",
   "execution_count": 119,
   "id": "e05fb0e7-0492-496c-b367-a3dc405f8f6e",
   "metadata": {},
   "outputs": [
    {
     "name": "stdout",
     "output_type": "stream",
     "text": [
      "Help on instancemethod in module pyenvlp._pyenvlp:\n",
      "\n",
      "sweep(...)\n",
      "    sweep(self: pyenvlp._pyenvlp.EnvOpt, u_list: list[int], n_samples: int, objval_offset: float = 0.0, p: int = 1) -> tuple\n",
      "\n"
     ]
    }
   ],
   "source": [
    "help(pyenvlp.EnvOpt.sweep)"
   ]
  },
  {
   "cell_type": "code",
   "execution_count": 120,
   "id": "e7e5a780-ea93-4b5a-9d60-6cc44e0426a2",
   "metadata": {},
   "outputs": [
    {
     "data": {
      "text/plain": [
       "[0, 1, 2, 3, 4, 5, 6, 7, 8, 9, 10, 11, 12, 13]"
      ]
     },
     "execution_count": 120,
     "metadata": {},
     "output_type": "execute_result"
    }
   ],
   "source": [
    "# Get the list of possible u\n",
    "ulist = np.arange(0, r+1).tolist()\n",
    "ulist"
   ]
  },
  {
   "cell_type": "code",
   "execution_count": 122,
   "id": "40f637fa-e295-4899-a058-d40af2e3f25d",
   "metadata": {},
   "outputs": [
    {
     "data": {
      "text/plain": [
       "9"
      ]
     },
     "execution_count": 122,
     "metadata": {},
     "output_type": "execute_result"
    }
   ],
   "source": [
    "# dimension selection based on BIC criteria\n",
    "# n is the sample size\n",
    "# offset = 0 for response envelope model\n",
    "# number of predictors is 2\n",
    "objval, best_u = eopt.sweep(ulist, n, 0, 2)\n",
    "best_u"
   ]
  },
  {
   "cell_type": "code",
   "execution_count": 123,
   "id": "03f0dd90-f82e-45bb-addb-fbc61fd6279e",
   "metadata": {},
   "outputs": [
    {
     "data": {
      "text/plain": [
       "array([[8224.32580424],\n",
       "       [8017.08391099],\n",
       "       [7812.0142472 ],\n",
       "       [7800.68565027],\n",
       "       [7699.06812193],\n",
       "       [7670.93997236],\n",
       "       [7643.94234441],\n",
       "       [7634.44878129],\n",
       "       [7630.3897961 ],\n",
       "       [7619.74043605],\n",
       "       [7627.67383283],\n",
       "       [7632.09671056],\n",
       "       [7635.77665659],\n",
       "       [7643.71064946]])"
      ]
     },
     "execution_count": 123,
     "metadata": {},
     "output_type": "execute_result"
    }
   ],
   "source": [
    "objval"
   ]
  },
  {
   "cell_type": "markdown",
   "id": "0ddb1259-c241-4621-8e7b-ba3e1577231d",
   "metadata": {},
   "source": [
    "Once u is selected, we can use `pyenvlp.fit_yenv` to fit the model"
   ]
  },
  {
   "cell_type": "code",
   "execution_count": 88,
   "id": "6eff9e6c-1aa4-47e7-b2e4-d5c01dd6221a",
   "metadata": {},
   "outputs": [
    {
     "data": {
      "text/plain": [
       "array([[-1.47881978e+00, -6.01794913e-01],\n",
       "       [-7.84027281e-02,  1.32834180e+00],\n",
       "       [-2.03403618e-01, -2.52160047e-02],\n",
       "       [ 3.22576801e+00,  4.34026565e+00],\n",
       "       [-1.06647541e+01, -8.72973408e+00],\n",
       "       [-5.72958162e-01, -1.16068996e+00],\n",
       "       [-8.98421584e-01, -2.20782792e+00],\n",
       "       [ 6.46921007e-02,  1.67374094e-01],\n",
       "       [-2.83505263e-01, -7.80132203e-01],\n",
       "       [-2.43370307e+00,  1.86547275e+00],\n",
       "       [-4.73993206e-03, -3.82299357e-01],\n",
       "       [-3.57809848e-01, -1.45441775e+00],\n",
       "       [-5.96224827e+02, -4.85785723e+02]])"
      ]
     },
     "execution_count": 88,
     "metadata": {},
     "output_type": "execute_result"
    }
   ],
   "source": [
    "m = pyenvlp.fit_yenv(X, Y, best_u)\n",
    "m['beta']"
   ]
  },
  {
   "cell_type": "markdown",
   "id": "72f2eb7d-6d72-4a99-9a7b-3ebe7cd4c5b3",
   "metadata": {},
   "source": [
    "If only the estimate of $\\Gamma$ and $\\Gamma_0$ are interested, we can also use `EnvOpt` to obtain the estimates as well as a few key statistics."
   ]
  },
  {
   "cell_type": "code",
   "execution_count": 92,
   "id": "8a2d30cb-34b0-4321-9fee-a80811612fe8",
   "metadata": {},
   "outputs": [],
   "source": [
    "# Solve the envelope optimization with given u\n",
    "eopt.solve(best_u) "
   ]
  },
  {
   "cell_type": "code",
   "execution_count": 98,
   "id": "b73cef5c-32e1-4d8c-9483-db27417ad300",
   "metadata": {},
   "outputs": [],
   "source": [
    "# Get the estimates of Gamma and Gamma_0\n",
    "Gammahat, Gamma0hat = eopt.get_gammas()"
   ]
  },
  {
   "cell_type": "code",
   "execution_count": 124,
   "id": "d010cc7d-0afd-486f-9c0e-232409293529",
   "metadata": {},
   "outputs": [
    {
     "data": {
      "text/plain": [
       "-3.312184968515104"
      ]
     },
     "execution_count": 124,
     "metadata": {},
     "output_type": "execute_result"
    }
   ],
   "source": [
    "# Get the value of the objective function at the solution\n",
    "eopt.get_objvalue()"
   ]
  },
  {
   "cell_type": "code",
   "execution_count": 102,
   "id": "3b9c56ee-b214-4b9b-b411-307e10631807",
   "metadata": {},
   "outputs": [
    {
     "data": {
      "text/plain": [
       "{'elapsed': 0.005559284, 'iter': 8, 'lbfgs_iter': 5921}"
      ]
     },
     "execution_count": 102,
     "metadata": {},
     "output_type": "execute_result"
    }
   ],
   "source": [
    "# Get statistics related to the optimization \n",
    "eopt.get_stats()"
   ]
  },
  {
   "cell_type": "markdown",
   "id": "e52bcd5d-77be-483e-acdf-3ef5c4755f5c",
   "metadata": {},
   "source": [
    "## Comparison of `pyenvlp` and `Renvlp`\n",
    "\n",
    "### Fitting with known u\n",
    "* data simulated from a response envelope model $Y=\\beta X + \\epsilon$\n",
    "* $r=100$, $p=100$, $n=500$\n",
    "* $50$ replications for each $u$\n",
    "* $X\\sim N(0, 400I_{p})$\n",
    "* $\\beta=\\Gamma\\eta$, where $(\\Gamma, \\Gamma_0)$ formed an orthogonal matrix and elements in $\\eta$ followed independent uniform $(0,10)$ distribution.\n",
    "* $\\epsilon\\sim N(0, \\Sigma)$, where $\\Sigma=\\Gamma\\Omega\\Gamma^T+\\Gamma_0\\Omega_0\\Gamma_0^T$, $\\Omega=AA^T$ and $\\Omega_0=BB^T$.  Elements in $A$ followed $N(0, 1)$ and elements in $B$ followed $N(0, 25)$ distribution.\n",
    "* Average computing time (in seconds) and average $\\|\\hat{\\beta}-\\beta\\|_2$ is displayed below."
   ]
  },
  {
   "cell_type": "markdown",
   "id": "228f38ca-0f5a-430c-99e2-58db4eec169d",
   "metadata": {},
   "source": [
    "|  |  Time (sec) || $\\hat{\\beta}-\\beta$ ||\n",
    "|----------|----------|----------|----------|----------|\n",
    "| $u$ | pyenvlp | Renvlp | pyenvlp | Renvlp |\n",
    "|----------|----------|----------|----------|----------|\n",
    "| 1    | 0.49     | 2.03     | 0.18     | 0.34     |\n",
    "| 5    | 0.76     | 4.52     | 0.87     | 0.89     |\n",
    "| 10    | 0.78     | 5.38     | 1.37     | 1.08     |\n",
    "| 20    | 1.49     | 5.43     | 1.39     | 1.44     |\n",
    "| 30    | 2.20     | 7.00     | 1.48     | 1.32     |\n",
    "| 40    | 2.76     | 5.64     | 1.40     | 1.54     |\n",
    "| 50    | 2.77     | 6.31     | 1.44     | 1.43     |\n",
    "| 60    | 3.00     | 6.65     | 1.33    | 1.30     |\n",
    "| 80    | 1.88     | 5.37     | 0.99     | 1.06     |\n",
    "| 90    | 1.08     | 3.78     | 0.84     | 0.78     |\n",
    "* The `pyenvlp` version is 2-5 times faster than `Renvlp`, while achieving similar accuracy."
   ]
  },
  {
   "cell_type": "code",
   "execution_count": 21,
   "id": "d4a75e97-f67c-4939-a0ee-e451b1b455c7",
   "metadata": {},
   "outputs": [
    {
     "data": {
      "text/plain": [
       "<Axes: title={'center': 'runtime in sec as function of u dimension: lower is better'}, xlabel='u'>"
      ]
     },
     "execution_count": 21,
     "metadata": {},
     "output_type": "execute_result"
    },
    {
     "data": {
      "image/png": "[encoded data removed]",
      "text/plain": [
       "<Figure size 1000x600 with 1 Axes>"
      ]
     },
     "metadata": {},
     "output_type": "display_data"
    }
   ],
   "source": [
    "import pandas as pd\n",
    "import matplotlib.pylab as plt\n",
    "plt.style.use(\"ggplot\")\n",
    "txt = \"\"\"\n",
    "| 1    | 0.49     | 2.03     | 0.18     | 0.34     |\n",
    "| 5    | 0.76     | 4.52     | 0.87     | 0.89     |\n",
    "| 10    | 0.78     | 5.38     | 1.37     | 1.08     |\n",
    "| 20    | 1.49     | 5.43     | 1.39     | 1.44     |\n",
    "| 30    | 2.20     | 7.00     | 1.48     | 1.32     |\n",
    "| 40    | 2.76     | 5.64     | 1.40     | 1.54     |\n",
    "| 50    | 2.77     | 6.31     | 1.44     | 1.43     |\n",
    "| 60    | 3.00     | 6.65     | 1.33    | 1.30     |\n",
    "| 80    | 1.88     | 5.37     | 0.99     | 1.06     |\n",
    "| 90    | 1.08     | 3.78     | 0.84     | 0.78     |\n",
    "\"\"\"\n",
    "lines = txt.split(\"\\n\")\n",
    "data = []\n",
    "for line in lines:\n",
    "    toks = line.split(\"|\")\n",
    "    toks = [float(i) for i in [tok.strip() for tok in toks] if len(i)>0]\n",
    "    if len(toks)==0:\n",
    "        continue\n",
    "    data.append( dict(zip([\"u\",\"pyenvlp_sec\",\"Renvlp_sec\",\"pyenvlp_norm\",\"Renvlp_norm\"], toks)) )\n",
    "    # print(toks)\n",
    "df = pd.DataFrame(data)\n",
    "# display(df)\n",
    "df.set_index(\"u\")[[\"pyenvlp_sec\", \"Renvlp_sec\"]].plot.bar(figsize=(10,6), title=\"runtime in sec as function of u dimension: lower is better\")"
   ]
  },
  {
   "cell_type": "markdown",
   "id": "5e99aefb-03ac-4348-af27-1a666b156c36",
   "metadata": {},
   "source": [
    "### Selection of u"
   ]
  },
  {
   "cell_type": "markdown",
   "id": "66a2b31d-0371-4349-8008-a9ee5e074447",
   "metadata": {},
   "source": [
    "* Same settings as above, but fix u = 5, r varies from 20 to 200\n",
    "* 5 replications for each u\n",
    "* When r is large, it is common to choose a dimension that is larger than u.  If the estimated envelope contains the true envelope, then the angle between $\\hat{\\Gamma}$ and $\\Gamma$ should be small.  For this purpose, the angle is also included in the table."
   ]
  },
  {
   "cell_type": "markdown",
   "id": "4c44178a-c4d5-4261-b3b5-676e73fbc877",
   "metadata": {},
   "source": [
    "|  |  Time (sec) ||Angle ||\n",
    "|----------|----------|----------|----------|----------|\n",
    "| $r$ | pyenvlp | Renvlp | pyenvlp | Renvlp |\n",
    "|----------|----------|----------|----------|----------|\n",
    "| 20    | 0.02     | 0.46     | 0.43     | 0.52     |\n",
    "| 50    | 0.81     | 8.73     | 1.20     | 0.86     |\n",
    "| 100    | 7.27     | 99.26     | 1.93    | 1.87     |\n",
    "| 200    |  238.21    | 1197.78     | 2.11     | 2.28     |"
   ]
  },
  {
   "cell_type": "markdown",
   "id": "65c20582-581c-4d55-9637-5bbb20d8ac8a",
   "metadata": {},
   "source": [
    "* EnvOpt is much faster in selection of u compared to Renvlp. It may select a u which is slightly larger, but it normally contains the true envelope subspace."
   ]
  }
 ],
 "metadata": {
  "kernelspec": {
   "display_name": "dev",
   "language": "python",
   "name": "dev"
  },
  "language_info": {
   "codemirror_mode": {
    "name": "ipython",
    "version": 3
   },
   "file_extension": ".py",
   "mimetype": "text/x-python",
   "name": "python",
   "nbconvert_exporter": "python",
   "pygments_lexer": "ipython3",
   "version": "3.10.15"
  }
 },
 "nbformat": 4,
 "nbformat_minor": 5
}
