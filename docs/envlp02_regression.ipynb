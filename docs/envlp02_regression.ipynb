{
 "cells": [
  {
   "cell_type": "markdown",
   "id": "d90f7031-cc4e-465d-a9db-95e58669abc8",
   "metadata": {},
   "source": [
    "# Running RidgeEnvlp\n",
    "\n",
    "The `pyenvlp` package contains scikit-learn comapatible Regression class called `RidgeEnvlp`.\n",
    "`RidgeEnvlp` combined L2 regularization with Envelope Model, allows multi-X fitting similar to \n",
    "cannonical regression objects in scikit-learn. In addition, it provides additional statistics\n",
    "associated with Envelope Model."
   ]
  },
  {
   "cell_type": "code",
   "execution_count": 22,
   "id": "f0026dc7-aa33-4287-8d3a-eb5af307b5cf",
   "metadata": {},
   "outputs": [],
   "source": [
    "import pyenvlp\n",
    "import numpy as np\n",
    "import pandas as pd"
   ]
  },
  {
   "cell_type": "code",
   "execution_count": 3,
   "id": "67f74443-721b-4373-8483-d1d843dec790",
   "metadata": {},
   "outputs": [
    {
     "data": {
      "text/plain": [
       "\u001b[0;31mDocstring:\u001b[0m      <no docstring>\n",
       "\u001b[0;31mInit docstring:\u001b[0m __init__(self: pyenvlp._pyenvlp.RidgeEnvlp, fit_intercept: bool = True, l2_lambda: float = 0.0, zscore_x: bool = False, zscore_y: bool = False, do_coef_scale: bool = False, u_step: int = 0) -> None\n",
       "\u001b[0;31mFile:\u001b[0m           /nvs/apps/prod/release/kinetic-stable/site-packages/pyenvlp/_pyenvlp.so\n",
       "\u001b[0;31mType:\u001b[0m           pybind11_type\n",
       "\u001b[0;31mSubclasses:\u001b[0m     "
      ]
     },
     "metadata": {},
     "output_type": "display_data"
    }
   ],
   "source": [
    "pyenvlp.RidgeEnvlp?"
   ]
  },
  {
   "cell_type": "code",
   "execution_count": 18,
   "id": "5e9bb551-cd79-4e7a-bb09-b5aeade973ba",
   "metadata": {},
   "outputs": [],
   "source": [
    "x = np.random.rand(20000, 300)\n",
    "y = np.random.rand(20000, 1)\n",
    "rdgenv = pyenvlp.RidgeEnvlp(l2_lambda=0.1)"
   ]
  },
  {
   "cell_type": "code",
   "execution_count": 19,
   "id": "1948c6bc-fe2b-4d25-a040-bf7082100917",
   "metadata": {},
   "outputs": [
    {
     "data": {
      "text/plain": [
       "\u001b[0;31mDocstring:\u001b[0m fit(self: pylinear._pylinear.Regression, x: numpy.ndarray, y: numpy.ndarray, w: numpy.ndarray = array([], dtype=float64)) -> pylinear._pylinear.Regression\n",
       "\u001b[0;31mType:\u001b[0m      method"
      ]
     },
     "metadata": {},
     "output_type": "display_data"
    }
   ],
   "source": [
    "rdgenv.fit?"
   ]
  },
  {
   "cell_type": "code",
   "execution_count": 20,
   "id": "e466b881-0766-4825-bbb8-6fe2a9971545",
   "metadata": {},
   "outputs": [
    {
     "name": "stdout",
     "output_type": "stream",
     "text": [
      "RidgeEnvlp::computeXEnvGammas: tot_dim=300 u_step=30 u_list=  1  38  75 112 149 186 223 260 297\n",
      "RidgeEnvlp::computeXEnvGammas: computed best BIC u=1\n",
      "m_coef_base_ni: (300 x 1) gamma: (300 x 1)\n"
     ]
    },
    {
     "data": {
      "text/plain": [
       "<pylinear._pylinear.Regression at 0x7fbf9be1ebf0>"
      ]
     },
     "execution_count": 20,
     "metadata": {},
     "output_type": "execute_result"
    }
   ],
   "source": [
    "rdgenv.fit(x, y)"
   ]
  },
  {
   "cell_type": "code",
   "execution_count": 28,
   "id": "5c56fe05-bd75-4fb6-8f69-c9a6e4c2dc73",
   "metadata": {},
   "outputs": [
    {
     "data": {
      "text/html": [
       "<div>\n",
       "<style scoped>\n",
       "    .dataframe tbody tr th:only-of-type {\n",
       "        vertical-align: middle;\n",
       "    }\n",
       "\n",
       "    .dataframe tbody tr th {\n",
       "        vertical-align: top;\n",
       "    }\n",
       "\n",
       "    .dataframe thead th {\n",
       "        text-align: right;\n",
       "    }\n",
       "</style>\n",
       "<table border=\"1\" class=\"dataframe\">\n",
       "  <thead>\n",
       "    <tr style=\"text-align: right;\">\n",
       "      <th></th>\n",
       "      <th>ridge</th>\n",
       "      <th>envelope</th>\n",
       "    </tr>\n",
       "  </thead>\n",
       "  <tbody>\n",
       "    <tr>\n",
       "      <th>0</th>\n",
       "      <td>0.006923</td>\n",
       "      <td>0.005550</td>\n",
       "    </tr>\n",
       "    <tr>\n",
       "      <th>1</th>\n",
       "      <td>-0.001824</td>\n",
       "      <td>-0.001722</td>\n",
       "    </tr>\n",
       "    <tr>\n",
       "      <th>2</th>\n",
       "      <td>0.001320</td>\n",
       "      <td>0.000771</td>\n",
       "    </tr>\n",
       "    <tr>\n",
       "      <th>3</th>\n",
       "      <td>0.009621</td>\n",
       "      <td>0.006119</td>\n",
       "    </tr>\n",
       "    <tr>\n",
       "      <th>4</th>\n",
       "      <td>-0.012909</td>\n",
       "      <td>-0.003391</td>\n",
       "    </tr>\n",
       "    <tr>\n",
       "      <th>...</th>\n",
       "      <td>...</td>\n",
       "      <td>...</td>\n",
       "    </tr>\n",
       "    <tr>\n",
       "      <th>295</th>\n",
       "      <td>-0.006681</td>\n",
       "      <td>-0.001955</td>\n",
       "    </tr>\n",
       "    <tr>\n",
       "      <th>296</th>\n",
       "      <td>-0.013798</td>\n",
       "      <td>-0.007362</td>\n",
       "    </tr>\n",
       "    <tr>\n",
       "      <th>297</th>\n",
       "      <td>-0.006306</td>\n",
       "      <td>-0.002974</td>\n",
       "    </tr>\n",
       "    <tr>\n",
       "      <th>298</th>\n",
       "      <td>0.001344</td>\n",
       "      <td>0.002575</td>\n",
       "    </tr>\n",
       "    <tr>\n",
       "      <th>299</th>\n",
       "      <td>-0.003846</td>\n",
       "      <td>-0.003384</td>\n",
       "    </tr>\n",
       "  </tbody>\n",
       "</table>\n",
       "<p>300 rows × 2 columns</p>\n",
       "</div>"
      ],
      "text/plain": [
       "        ridge  envelope\n",
       "0    0.006923  0.005550\n",
       "1   -0.001824 -0.001722\n",
       "2    0.001320  0.000771\n",
       "3    0.009621  0.006119\n",
       "4   -0.012909 -0.003391\n",
       "..        ...       ...\n",
       "295 -0.006681 -0.001955\n",
       "296 -0.013798 -0.007362\n",
       "297 -0.006306 -0.002974\n",
       "298  0.001344  0.002575\n",
       "299 -0.003846 -0.003384\n",
       "\n",
       "[300 rows x 2 columns]"
      ]
     },
     "metadata": {},
     "output_type": "display_data"
    },
    {
     "data": {
      "text/plain": [
       "<Axes: title={'center': 'coefficient comparison between ridge and envelope'}, xlabel='ridge'>"
      ]
     },
     "execution_count": 28,
     "metadata": {},
     "output_type": "execute_result"
    },
    {
     "data": {
      "image/png": "[encoded data removed]",
      "text/plain": [
       "<Figure size 640x480 with 1 Axes>"
      ]
     },
     "metadata": {},
     "output_type": "display_data"
    }
   ],
   "source": [
    "codf = pd.DataFrame({\"ridge\": rdgenv.coefsbase().flatten(), \"envelope\":rdgenv.coefs().flatten()})\n",
    "display(codf)\n",
    "codf.plot(x='ridge', y='envelope', style='.', title=\"coefficient comparison between ridge and envelope\")"
   ]
  }
 ],
 "metadata": {
  "kernelspec": {
   "display_name": "prod",
   "language": "python",
   "name": "prod"
  },
  "language_info": {
   "codemirror_mode": {
    "name": "ipython",
    "version": 3
   },
   "file_extension": ".py",
   "mimetype": "text/x-python",
   "name": "python",
   "nbconvert_exporter": "python",
   "pygments_lexer": "ipython3",
   "version": "3.10.15"
  }
 },
 "nbformat": 4,
 "nbformat_minor": 5
}
